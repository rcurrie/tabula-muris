{
 "cells": [
  {
   "cell_type": "code",
   "execution_count": 6,
   "metadata": {},
   "outputs": [],
   "source": [
    "import os\n",
    "import json\n",
    "import tensorflow as tf\n",
    "\n",
    "import matplotlib.pyplot as plt\n",
    "import seaborn as sns\n",
    "\n",
    "bucket_name = \"stuartlab\"\n",
    "project_name = \"tabula-muris\"  # Dataset folder and output location\n",
    "\n",
    "os.chdir(os.path.expanduser(\"~/data/tabula-muris\"))"
   ]
  },
  {
   "cell_type": "code",
   "execution_count": 7,
   "metadata": {},
   "outputs": [
    {
     "name": "stdout",
     "output_type": "stream",
     "text": [
      "S3 Profile: prp Endpoint: https://s3.nautilus.optiputer.net Project: tabula-muris\n",
      "Dataset metadata keys: ['num_test_samples', 'genes', 'num_train_samples', 'tissues']\n"
     ]
    }
   ],
   "source": [
    "import boto3\n",
    "session = boto3.session.Session(profile_name=os.getenv(\"AWS_PROFILE\"))\n",
    "bucket = session.resource(\n",
    "    \"s3\", endpoint_url=os.getenv(\"AWS_S3_ENDPOINT\")).Bucket(bucket_name)\n",
    "print(\"S3 Profile: {} Endpoint: {} Project: {}\".format(\n",
    "    os.getenv(\"AWS_PROFILE\"), os.getenv(\"AWS_S3_ENDPOINT\"), project_name))\n",
    "\n",
    "metadata = json.loads(bucket.Object(\n",
    "    project_name + \"/FACS/metadata.json\").get()['Body'].read().decode('utf-8'))\n",
    "print(\"Dataset metadata keys:\", list(metadata.keys()))"
   ]
  },
  {
   "cell_type": "code",
   "execution_count": 8,
   "metadata": {},
   "outputs": [],
   "source": [
    "params = json.loads(bucket.Object(\n",
    "    \"{0}/models/{0}.params.json\".format(project_name)).get()['Body'].read().decode('utf-8'))\n",
    "\n",
    "import tempfile\n",
    "tempname = next(tempfile._get_candidate_names())\n",
    "\n",
    "bucket.Object(\"{0}/models/{0}.model.h5\".format(project_name)).upload_file(\n",
    "    \"/tmp/{}.h5\".format(tempname), ExtraArgs={\"ACL\":\"public-read\"})\n",
    "\n",
    "\n",
    "model.save(\"/tmp/{}.h5\".format(tempname))\n",
    "bucket.Object(\"{0}/models/{0}.model.h5\".format(project_name)).upload_file(\n",
    "    \"/tmp/{}.h5\".format(tempname), ExtraArgs={\"ACL\":\"public-read\"})\n",
    "os.remove(\"/tmp/{}.h5\".format(tempname))"
   ]
  },
  {
   "cell_type": "code",
   "execution_count": 8,
   "metadata": {},
   "outputs": [],
   "source": [
    "model = tf.keras.models.model_from_json(open(\"model/tabula-muris.model.json\").read())\n",
    "model.load_weights(\"model/tabula-muris.weights.h5\")"
   ]
  },
  {
   "cell_type": "code",
   "execution_count": null,
   "metadata": {},
   "outputs": [],
   "source": []
  }
 ],
 "metadata": {
  "kernelspec": {
   "display_name": "Python 3",
   "language": "python",
   "name": "python3"
  },
  "language_info": {
   "codemirror_mode": {
    "name": "ipython",
    "version": 3
   },
   "file_extension": ".py",
   "mimetype": "text/x-python",
   "name": "python",
   "nbconvert_exporter": "python",
   "pygments_lexer": "ipython3",
   "version": "3.5.2"
  }
 },
 "nbformat": 4,
 "nbformat_minor": 2
}
