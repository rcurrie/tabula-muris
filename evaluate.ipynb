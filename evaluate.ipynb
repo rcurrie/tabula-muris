{
 "cells": [
  {
   "cell_type": "code",
   "execution_count": 12,
   "metadata": {},
   "outputs": [],
   "source": [
    "import os\n",
    "import json\n",
    "import tensorflow as tf\n",
    "\n",
    "import matplotlib.pyplot as plt\n",
    "import seaborn as sns\n",
    "\n",
    "bucket_name = \"stuartlab\"\n",
    "project_name = \"tabula-muris\"  # Dataset folder and output location\n",
    "\n",
    "os.chdir(os.path.expanduser(\"~/data/tabula-muris\"))"
   ]
  },
  {
   "cell_type": "code",
   "execution_count": 26,
   "metadata": {},
   "outputs": [
    {
     "name": "stdout",
     "output_type": "stream",
     "text": [
      "download: s3://stuartlab/tabula-muris/model/params.json to model/params.json\n",
      "download: s3://stuartlab/tabula-muris/model/model.h5 to model/model.h5\n"
     ]
    }
   ],
   "source": [
    "!mkdir -p model\n",
    "# !aws --profile {os.getenv(\"AWS_PROFILE\")} --endpoint {os.getenv(\"AWS_S3_ENDPOINT\")} s3 sync --dryrun s3://{bucker_name}/{project_name}/model/ model/\n",
    "    \n",
    "!aws --profile {os.getenv(\"AWS_PROFILE\")} --endpoint {os.getenv(\"AWS_S3_ENDPOINT\")} \\\n",
    "    s3 sync s3://{bucket_name}/{project_name}/model/ model/"
   ]
  },
  {
   "cell_type": "code",
   "execution_count": 36,
   "metadata": {},
   "outputs": [],
   "source": [
    "metadata = json.loads(open(\"FACS/metadata.json\").read())\n",
    "params = json.loads(open(\"model/params.json\").read())\n",
    "model = tf.keras.models.load_model(\"model/model.h5\")"
   ]
  }
 ],
 "metadata": {
  "kernelspec": {
   "display_name": "Python 3",
   "language": "python",
   "name": "python3"
  },
  "language_info": {
   "codemirror_mode": {
    "name": "ipython",
    "version": 3
   },
   "file_extension": ".py",
   "mimetype": "text/x-python",
   "name": "python",
   "nbconvert_exporter": "python",
   "pygments_lexer": "ipython3",
   "version": "3.5.2"
  }
 },
 "nbformat": 4,
 "nbformat_minor": 2
}
